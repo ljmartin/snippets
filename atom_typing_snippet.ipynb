{
 "cells": [
  {
   "cell_type": "code",
   "execution_count": 18,
   "metadata": {},
   "outputs": [],
   "source": [
    "from rdkit import Chem\n",
    "from rdkit.Chem import AllChem, Draw\n",
    "from rdkit.Chem.Draw import IPythonConsole\n",
    "from rdkit import DataStructs"
   ]
  },
  {
   "cell_type": "code",
   "execution_count": 2,
   "metadata": {},
   "outputs": [],
   "source": [
    "from collections import OrderedDict\n",
    "\n",
    "##Using dummy atomic numbers 40 - 44 to correspond to D,A,P,N,L\n",
    "\n",
    "PPP = OrderedDict({\"D\":(['[OH]','[#7H,#7H2]'], 40),\n",
    "      \"A\":(['[O]','[#7H0]'], 41),\n",
    "      'P':(['[*+]','[#7H2]'], 42),\n",
    "      'N':(['[*-]','[C&$(C(=O)O)]','[P&$(P(=O)O)]','[S&$(S(=O)O)]'], 43),\n",
    "      \"L\":(['[Cl,Br,I]','[S;D2;$(S(C)(C))]'], 44)})"
   ]
  },
  {
   "cell_type": "code",
   "execution_count": 3,
   "metadata": {},
   "outputs": [],
   "source": [
    "##This sets the \"L\" type\n",
    "\n",
    "def ContructLFromGraphSearch(mol):\n",
    "    AtomIndex = []\n",
    "    for atom in mol.GetAtoms():\n",
    "        temp = []\n",
    "        if atom.GetAtomicNum() == 6:\n",
    "            for neighatom in atom.GetNeighbors():\n",
    "                if neighatom.GetAtomicNum() == 6:\n",
    "                    temp.append(0)\n",
    "                elif neighatom.GetAtomicNum() == 1:\n",
    "                    continue\n",
    "                else:\n",
    "                    temp.append(1)\n",
    "            if sum(temp) == 0:\n",
    "                AtomIndex.append(atom.GetIdx())\n",
    "\n",
    "    return AtomIndex"
   ]
  },
  {
   "cell_type": "code",
   "execution_count": 4,
   "metadata": {},
   "outputs": [],
   "source": [
    "##This sets the DAPN types. \n",
    "\n",
    "def AssignAtomType(mol):\n",
    "    res = dict()\n",
    "    for ppptype in PPP:\n",
    "        temp = []\n",
    "        for i in PPP[ppptype][0]:\n",
    "            patt = Chem.MolFromSmarts(i)\n",
    "            atomindex = mol.GetSubstructMatches(patt)\n",
    "            atomindex = [k[0] for k in atomindex]\n",
    "            temp.extend(atomindex)\n",
    "            for atom in atomindex:\n",
    "                mol.GetAtomWithIdx(atom).SetAtomicNum(PPP[ppptype][1])\n",
    "        res.update({ppptype:temp})\n",
    "    temp = ContructLFromGraphSearch(mol)\n",
    "    temp.extend(res['L'])\n",
    "    res.update({'L':temp})\n",
    "    for idx in res['L']:\n",
    "        mol.GetAtomWithIdx(idx).SetAtomicNum(44)\n",
    "        \n",
    "    #print(res)\n",
    "    return mol"
   ]
  },
  {
   "cell_type": "code",
   "execution_count": 39,
   "metadata": {},
   "outputs": [
    {
     "data": {
      "image/png": "[encoded data removed]",
      "text/plain": [
       "<rdkit.Chem.rdchem.Mol at 0x116c6fa30>"
      ]
     },
     "execution_count": 39,
     "metadata": {},
     "output_type": "execute_result"
    }
   ],
   "source": [
    "thc = 'CCCCCc1cc(c2c(c1)OC([C@H]3[C@H]2C=C(CC3)C)(C)C)O'\n",
    "\n",
    "thc_mol = Chem.MolFromSmiles(thc)\n",
    "\n",
    "thc_mol"
   ]
  },
  {
   "cell_type": "code",
   "execution_count": 38,
   "metadata": {},
   "outputs": [
    {
     "name": "stderr",
     "output_type": "stream",
     "text": [
      "RDKit ERROR: [14:39:20] Can't kekulize mol.  Unkekulized atoms: 7 9\n",
      "RDKit ERROR: \n"
     ]
    },
    {
     "data": {
      "image/png": "[encoded data removed]",
      "text/plain": [
       "<rdkit.Chem.rdchem.Mol at 0x116c6fc10>"
      ]
     },
     "execution_count": 38,
     "metadata": {},
     "output_type": "execute_result"
    }
   ],
   "source": [
    "thc_mol_CATS = AssignAtomType(Chem.MolFromSmiles(thc))\n",
    "\n",
    "\n",
    "thc_mol_CATS"
   ]
  }
 ],
 "metadata": {
  "kernelspec": {
   "display_name": "Python 3",
   "language": "python",
   "name": "python3"
  },
  "language_info": {
   "codemirror_mode": {
    "name": "ipython",
    "version": 3
   },
   "file_extension": ".py",
   "mimetype": "text/x-python",
   "name": "python",
   "nbconvert_exporter": "python",
   "pygments_lexer": "ipython3",
   "version": "3.6.6"
  }
 },
 "nbformat": 4,
 "nbformat_minor": 2
}
